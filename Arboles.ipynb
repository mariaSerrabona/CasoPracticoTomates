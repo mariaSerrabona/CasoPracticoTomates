{
 "cells": [
  {
   "cell_type": "code",
   "execution_count": 29,
   "id": "79c6e897-2be6-4bf4-a68c-255a6ecdc820",
   "metadata": {},
   "outputs": [],
   "source": [
    "import pandas as pd\n",
    "from sklearn.tree import DecisionTreeRegressor\n",
    "from sklearn.model_selection import train_test_split\n",
    "from sklearn.metrics import mean_squared_error\n",
    "import matplotlib.pyplot as plt"
   ]
  },
  {
   "cell_type": "code",
   "execution_count": 30,
   "id": "a2154cd0-9534-4e2a-8d4a-ef5c316e0c25",
   "metadata": {},
   "outputs": [
    {
     "data": {
      "text/html": [
       "<div>\n",
       "<style scoped>\n",
       "    .dataframe tbody tr th:only-of-type {\n",
       "        vertical-align: middle;\n",
       "    }\n",
       "\n",
       "    .dataframe tbody tr th {\n",
       "        vertical-align: top;\n",
       "    }\n",
       "\n",
       "    .dataframe thead th {\n",
       "        text-align: right;\n",
       "    }\n",
       "</style>\n",
       "<table border=\"1\" class=\"dataframe\">\n",
       "  <thead>\n",
       "    <tr style=\"text-align: right;\">\n",
       "      <th></th>\n",
       "      <th>ubicacion</th>\n",
       "      <th>tamanio</th>\n",
       "      <th>rdto</th>\n",
       "      <th>uso_fertilizantes</th>\n",
       "      <th>tipo_cultivo_Erecta.</th>\n",
       "      <th>tipo_cultivo_Rastrera.</th>\n",
       "      <th>tipo_cultivo_Semierecta.</th>\n",
       "    </tr>\n",
       "  </thead>\n",
       "  <tbody>\n",
       "    <tr>\n",
       "      <th>0</th>\n",
       "      <td>1572</td>\n",
       "      <td>33997</td>\n",
       "      <td>0.8679</td>\n",
       "      <td>False</td>\n",
       "      <td>0</td>\n",
       "      <td>0</td>\n",
       "      <td>1</td>\n",
       "    </tr>\n",
       "    <tr>\n",
       "      <th>1</th>\n",
       "      <td>1059</td>\n",
       "      <td>80481</td>\n",
       "      <td>0.6079</td>\n",
       "      <td>False</td>\n",
       "      <td>0</td>\n",
       "      <td>0</td>\n",
       "      <td>1</td>\n",
       "    </tr>\n",
       "    <tr>\n",
       "      <th>2</th>\n",
       "      <td>1242</td>\n",
       "      <td>95781</td>\n",
       "      <td>0.9220</td>\n",
       "      <td>True</td>\n",
       "      <td>0</td>\n",
       "      <td>1</td>\n",
       "      <td>0</td>\n",
       "    </tr>\n",
       "    <tr>\n",
       "      <th>3</th>\n",
       "      <td>1286</td>\n",
       "      <td>98904</td>\n",
       "      <td>0.1078</td>\n",
       "      <td>False</td>\n",
       "      <td>1</td>\n",
       "      <td>0</td>\n",
       "      <td>0</td>\n",
       "    </tr>\n",
       "    <tr>\n",
       "      <th>4</th>\n",
       "      <td>1109</td>\n",
       "      <td>69298</td>\n",
       "      <td>0.0916</td>\n",
       "      <td>False</td>\n",
       "      <td>0</td>\n",
       "      <td>0</td>\n",
       "      <td>1</td>\n",
       "    </tr>\n",
       "    <tr>\n",
       "      <th>...</th>\n",
       "      <td>...</td>\n",
       "      <td>...</td>\n",
       "      <td>...</td>\n",
       "      <td>...</td>\n",
       "      <td>...</td>\n",
       "      <td>...</td>\n",
       "      <td>...</td>\n",
       "    </tr>\n",
       "    <tr>\n",
       "      <th>9995</th>\n",
       "      <td>1346</td>\n",
       "      <td>63349</td>\n",
       "      <td>0.0988</td>\n",
       "      <td>False</td>\n",
       "      <td>1</td>\n",
       "      <td>0</td>\n",
       "      <td>0</td>\n",
       "    </tr>\n",
       "    <tr>\n",
       "      <th>9996</th>\n",
       "      <td>1242</td>\n",
       "      <td>67465</td>\n",
       "      <td>0.3169</td>\n",
       "      <td>False</td>\n",
       "      <td>0</td>\n",
       "      <td>0</td>\n",
       "      <td>1</td>\n",
       "    </tr>\n",
       "    <tr>\n",
       "      <th>9997</th>\n",
       "      <td>1693</td>\n",
       "      <td>36885</td>\n",
       "      <td>0.0580</td>\n",
       "      <td>True</td>\n",
       "      <td>0</td>\n",
       "      <td>1</td>\n",
       "      <td>0</td>\n",
       "    </tr>\n",
       "    <tr>\n",
       "      <th>9998</th>\n",
       "      <td>1677</td>\n",
       "      <td>97367</td>\n",
       "      <td>0.4878</td>\n",
       "      <td>False</td>\n",
       "      <td>0</td>\n",
       "      <td>0</td>\n",
       "      <td>1</td>\n",
       "    </tr>\n",
       "    <tr>\n",
       "      <th>9999</th>\n",
       "      <td>1557</td>\n",
       "      <td>24907</td>\n",
       "      <td>0.5867</td>\n",
       "      <td>False</td>\n",
       "      <td>1</td>\n",
       "      <td>0</td>\n",
       "      <td>0</td>\n",
       "    </tr>\n",
       "  </tbody>\n",
       "</table>\n",
       "<p>10000 rows × 7 columns</p>\n",
       "</div>"
      ],
      "text/plain": [
       "      ubicacion  tamanio    rdto  uso_fertilizantes  tipo_cultivo_Erecta.  \\\n",
       "0          1572    33997  0.8679              False                     0   \n",
       "1          1059    80481  0.6079              False                     0   \n",
       "2          1242    95781  0.9220               True                     0   \n",
       "3          1286    98904  0.1078              False                     1   \n",
       "4          1109    69298  0.0916              False                     0   \n",
       "...         ...      ...     ...                ...                   ...   \n",
       "9995       1346    63349  0.0988              False                     1   \n",
       "9996       1242    67465  0.3169              False                     0   \n",
       "9997       1693    36885  0.0580               True                     0   \n",
       "9998       1677    97367  0.4878              False                     0   \n",
       "9999       1557    24907  0.5867              False                     1   \n",
       "\n",
       "      tipo_cultivo_Rastrera.  tipo_cultivo_Semierecta.  \n",
       "0                          0                         1  \n",
       "1                          0                         1  \n",
       "2                          1                         0  \n",
       "3                          0                         0  \n",
       "4                          0                         1  \n",
       "...                      ...                       ...  \n",
       "9995                       0                         0  \n",
       "9996                       0                         1  \n",
       "9997                       1                         0  \n",
       "9998                       0                         1  \n",
       "9999                       0                         0  \n",
       "\n",
       "[10000 rows x 7 columns]"
      ]
     },
     "execution_count": 30,
     "metadata": {},
     "output_type": "execute_result"
    }
   ],
   "source": [
    "data = pd.read_csv('tomates.csv')\n",
    "data_encoded = pd.get_dummies(data, columns=['tipo_cultivo'])\n",
    "data_encoded"
   ]
  },
  {
   "cell_type": "code",
   "execution_count": 31,
   "id": "543ada8d-2eb2-448f-97a7-caf26dae6dd2",
   "metadata": {},
   "outputs": [],
   "source": [
    "X = data_encoded.drop('rdto', axis=1)\n",
    "y = data_encoded['rdto']\n",
    "\n",
    "X_train, X_test, y_train, y_test = train_test_split(X, y, test_size=0.2, random_state=42)"
   ]
  },
  {
   "cell_type": "code",
   "execution_count": 32,
   "id": "a3552353-e89d-4ea9-b317-911feb20d4a2",
   "metadata": {},
   "outputs": [
    {
     "data": {
      "text/plain": [
       "DecisionTreeRegressor()"
      ]
     },
     "execution_count": 32,
     "metadata": {},
     "output_type": "execute_result"
    }
   ],
   "source": [
    "model = DecisionTreeRegressor()\n",
    "model.fit(X_train, y_train)"
   ]
  },
  {
   "cell_type": "code",
   "execution_count": 33,
   "id": "43b0ff49-dbc3-4591-8bc5-0a15f17c2714",
   "metadata": {},
   "outputs": [
    {
     "name": "stdout",
     "output_type": "stream",
     "text": [
      "MSE: 0.16564407623\n"
     ]
    }
   ],
   "source": [
    "# Evaluar el rendimiento del modelo en los datos de prueba\n",
    "y_pred = model.predict(X_test)\n",
    "mse = mean_squared_error(y_test, y_pred)\n",
    "print('MSE:', mse)"
   ]
  },
  {
   "cell_type": "code",
   "execution_count": null,
   "id": "edcec9d8-a602-4464-8932-91717dc18727",
   "metadata": {},
   "outputs": [],
   "source": []
  }
 ],
 "metadata": {
  "kernelspec": {
   "display_name": "Python 3",
   "language": "python",
   "name": "python3"
  },
  "language_info": {
   "codemirror_mode": {
    "name": "ipython",
    "version": 3
   },
   "file_extension": ".py",
   "mimetype": "text/x-python",
   "name": "python",
   "nbconvert_exporter": "python",
   "pygments_lexer": "ipython3",
   "version": "3.8.8"
  }
 },
 "nbformat": 4,
 "nbformat_minor": 5
}
