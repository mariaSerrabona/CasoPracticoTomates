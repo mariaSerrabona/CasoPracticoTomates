{
 "cells": [
  {
   "cell_type": "code",
   "execution_count": 1,
   "id": "5f5cc614-b61e-4038-a403-f1affac75304",
   "metadata": {},
   "outputs": [],
   "source": [
    "import Orange"
   ]
  },
  {
   "cell_type": "code",
   "execution_count": 2,
   "id": "f66c165b-3230-451d-be93-a96698305e6c",
   "metadata": {},
   "outputs": [
    {
     "name": "stdout",
     "output_type": "stream",
     "text": [
      "Collecting package metadata (current_repodata.json): done\n",
      "Solving environment: failed with initial frozen solve. Retrying with flexible solve.\n",
      "Solving environment: failed with repodata from current_repodata.json, will retry with next repodata source.\n",
      "Collecting package metadata (repodata.json): done\n",
      "Solving environment: done\n",
      "\n",
      "\n",
      "==> WARNING: A newer version of conda exists. <==\n",
      "  current version: 4.12.0\n",
      "  latest version: 23.3.1\n",
      "\n",
      "Please update conda by running\n",
      "\n",
      "    $ conda update -n base -c defaults conda\n",
      "\n",
      "\n",
      "\n",
      "## Package Plan ##\n",
      "\n",
      "  environment location: /Users/mariaperez-serrabona/opt/anaconda3\n",
      "\n",
      "  added / updated specs:\n",
      "    - orange3\n",
      "\n",
      "\n",
      "The following packages will be downloaded:\n",
      "\n",
      "    package                    |            build\n",
      "    ---------------------------|-----------------\n",
      "    anyqt-0.2.0                |     pyh6c4a22f_0          49 KB  conda-forge\n",
      "    baycomp-1.0.2              |             py_1          18 KB  conda-forge\n",
      "    cachecontrol-0.12.11       |     pyhd8ed1ab_1          23 KB  conda-forge\n",
      "    charset-normalizer-3.1.0   |     pyhd8ed1ab_0          44 KB  conda-forge\n",
      "    commonmark-0.9.1           |             py_0          46 KB  conda-forge\n",
      "    conda-4.12.0               |   py38h50d1736_0        1020 KB  conda-forge\n",
      "    dictdiffer-0.9.0           |     pyhd8ed1ab_0          17 KB  conda-forge\n",
      "    h11-0.12.0                 |     pyhd8ed1ab_0          44 KB  conda-forge\n",
      "    h2-4.1.0                   |   py38h50d1736_0          77 KB  conda-forge\n",
      "    hpack-4.0.0                |     pyh9f0ad1d_0          25 KB  conda-forge\n",
      "    httpcore-0.13.4            |     pyhd8ed1ab_0          34 KB  conda-forge\n",
      "    httpx-0.20.0               |   py38h50d1736_1         123 KB  conda-forge\n",
      "    hyperframe-6.0.1           |     pyhd8ed1ab_0          14 KB  conda-forge\n",
      "    keyrings.alt-4.2.0         |     pyhd8ed1ab_0          22 KB  conda-forge\n",
      "    lockfile-0.12.2            |             py_1          11 KB  conda-forge\n",
      "    opentsne-0.4.3             |   py38ha0d09dd_0         385 KB  conda-forge\n",
      "    orange-canvas-core-0.1.30  |     pyhd8ed1ab_0         358 KB  conda-forge\n",
      "    orange-widget-base-4.20.0  |     pyhd8ed1ab_0         198 KB  conda-forge\n",
      "    orange3-3.26.0             |   py38hc84c608_0         3.4 MB  conda-forge\n",
      "    pyqtgraph-0.10.0           |             py_7         489 KB  conda-forge\n",
      "    python-louvain-0.16        |     pyhd8ed1ab_0          15 KB  conda-forge\n",
      "    qasync-0.24.0              |     pyhd8ed1ab_0          18 KB  conda-forge\n",
      "    rfc3986-1.5.0              |     pyhd8ed1ab_0          33 KB  conda-forge\n",
      "    serverfiles-0.3.0          |             py_0           9 KB  conda-forge\n",
      "    ------------------------------------------------------------\n",
      "                                           Total:         6.4 MB\n",
      "\n",
      "The following NEW packages will be INSTALLED:\n",
      "\n",
      "  anyqt              conda-forge/noarch::anyqt-0.2.0-pyh6c4a22f_0\n",
      "  baycomp            conda-forge/noarch::baycomp-1.0.2-py_1\n",
      "  cachecontrol       conda-forge/noarch::cachecontrol-0.12.11-pyhd8ed1ab_1\n",
      "  charset-normalizer conda-forge/noarch::charset-normalizer-3.1.0-pyhd8ed1ab_0\n",
      "  commonmark         conda-forge/noarch::commonmark-0.9.1-py_0\n",
      "  dictdiffer         conda-forge/noarch::dictdiffer-0.9.0-pyhd8ed1ab_0\n",
      "  h11                conda-forge/noarch::h11-0.12.0-pyhd8ed1ab_0\n",
      "  h2                 conda-forge/osx-64::h2-4.1.0-py38h50d1736_0\n",
      "  hpack              conda-forge/noarch::hpack-4.0.0-pyh9f0ad1d_0\n",
      "  httpcore           conda-forge/noarch::httpcore-0.13.4-pyhd8ed1ab_0\n",
      "  httpx              conda-forge/osx-64::httpx-0.20.0-py38h50d1736_1\n",
      "  hyperframe         conda-forge/noarch::hyperframe-6.0.1-pyhd8ed1ab_0\n",
      "  keyrings.alt       conda-forge/noarch::keyrings.alt-4.2.0-pyhd8ed1ab_0\n",
      "  lockfile           conda-forge/noarch::lockfile-0.12.2-py_1\n",
      "  opentsne           conda-forge/osx-64::opentsne-0.4.3-py38ha0d09dd_0\n",
      "  orange-canvas-core conda-forge/noarch::orange-canvas-core-0.1.30-pyhd8ed1ab_0\n",
      "  orange-widget-base conda-forge/noarch::orange-widget-base-4.20.0-pyhd8ed1ab_0\n",
      "  orange3            conda-forge/osx-64::orange3-3.26.0-py38hc84c608_0\n",
      "  pyqtgraph          conda-forge/noarch::pyqtgraph-0.10.0-py_7\n",
      "  python-louvain     conda-forge/noarch::python-louvain-0.16-pyhd8ed1ab_0\n",
      "  qasync             conda-forge/noarch::qasync-0.24.0-pyhd8ed1ab_0\n",
      "  rfc3986            conda-forge/noarch::rfc3986-1.5.0-pyhd8ed1ab_0\n",
      "  serverfiles        conda-forge/noarch::serverfiles-0.3.0-py_0\n",
      "\n",
      "The following packages will be SUPERSEDED by a higher-priority channel:\n",
      "\n",
      "  conda              pkgs/main::conda-4.12.0-py38hecd8cb5_0 --> conda-forge::conda-4.12.0-py38h50d1736_0\n",
      "\n",
      "\n",
      "\n",
      "Downloading and Extracting Packages\n",
      "serverfiles-0.3.0    | 9 KB      | ##################################### | 100% \n",
      "conda-4.12.0         | 1020 KB   | ##################################### | 100% \n",
      "orange3-3.26.0       | 3.4 MB    | ##################################### | 100% \n",
      "h2-4.1.0             | 77 KB     | ##################################### | 100% \n",
      "lockfile-0.12.2      | 11 KB     | ##################################### | 100% \n",
      "orange-widget-base-4 | 198 KB    | ##################################### | 100% \n",
      "httpcore-0.13.4      | 34 KB     | ##################################### | 100% \n",
      "baycomp-1.0.2        | 18 KB     | ##################################### | 100% \n",
      "opentsne-0.4.3       | 385 KB    | ##################################### | 100% \n",
      "dictdiffer-0.9.0     | 17 KB     | ##################################### | 100% \n",
      "rfc3986-1.5.0        | 33 KB     | ##################################### | 100% \n",
      "httpx-0.20.0         | 123 KB    | ##################################### | 100% \n",
      "keyrings.alt-4.2.0   | 22 KB     | ##################################### | 100% \n",
      "qasync-0.24.0        | 18 KB     | ##################################### | 100% \n",
      "cachecontrol-0.12.11 | 23 KB     | ##################################### | 100% \n",
      "anyqt-0.2.0          | 49 KB     | ##################################### | 100% \n",
      "charset-normalizer-3 | 44 KB     | ##################################### | 100% \n",
      "orange-canvas-core-0 | 358 KB    | ##################################### | 100% \n",
      "commonmark-0.9.1     | 46 KB     | ##################################### | 100% \n",
      "hyperframe-6.0.1     | 14 KB     | ##################################### | 100% \n",
      "hpack-4.0.0          | 25 KB     | ##################################### | 100% \n",
      "python-louvain-0.16  | 15 KB     | ##################################### | 100% \n",
      "h11-0.12.0           | 44 KB     | ##################################### | 100% \n",
      "pyqtgraph-0.10.0     | 489 KB    | ##################################### | 100% \n",
      "Preparing transaction: done\n",
      "Verifying transaction: done\n",
      "Executing transaction: done\n",
      "\n",
      "Note: you may need to restart the kernel to use updated packages.\n"
     ]
    }
   ],
   "source": [
    "conda install -c conda-forge orange3"
   ]
  },
  {
   "cell_type": "code",
   "execution_count": 18,
   "id": "a8a486ac-5cc2-4880-a33b-29c51b4f0992",
   "metadata": {},
   "outputs": [
    {
     "data": {
      "text/plain": [
       "[[Rastrera., 87760, 0.9589, False] {48399 Travis Burgs Apt. 862},\n",
       " [Erecta., 57087, 0.0635, False] {6259 Richardson Vista Apt. 620},\n",
       " [Semierecta., 78799, 0.8868, True] {8230 Reynolds Lakes Suite 031},\n",
       " [Rastrera., 17175, 0.2382, True] {78129 Rachel Circles},\n",
       " [Erecta., 6672, 0.7439, True] {512 Jackson Forks},\n",
       " ...\n",
       "]"
      ]
     },
     "execution_count": 18,
     "metadata": {},
     "output_type": "execute_result"
    }
   ],
   "source": [
    "data=Orange.data.Table('tomates.csv')\n",
    "data"
   ]
  },
  {
   "cell_type": "code",
   "execution_count": 19,
   "id": "cc8ef998-d1a5-4099-bc7d-dda715836a8d",
   "metadata": {},
   "outputs": [
    {
     "name": "stdout",
     "output_type": "stream",
     "text": [
      "Number of instances: 10000\n"
     ]
    }
   ],
   "source": [
    "print(f\"Number of instances: {len(data)}\")"
   ]
  },
  {
   "cell_type": "code",
   "execution_count": 20,
   "id": "2f50b957-d966-4eea-b73d-d8060934bc86",
   "metadata": {},
   "outputs": [
    {
     "name": "stdout",
     "output_type": "stream",
     "text": [
      "Number of attributes: 4\n"
     ]
    }
   ],
   "source": [
    "print(f\"Number of attributes: {len(data.domain.attributes)}\")"
   ]
  },
  {
   "cell_type": "code",
   "execution_count": 21,
   "id": "0ba435a0-49f9-4fe1-8d5e-c099a3d9a0ad",
   "metadata": {},
   "outputs": [
    {
     "name": "stdout",
     "output_type": "stream",
     "text": [
      "Attribute names: (DiscreteVariable(name='tipo_cultivo', values=('Erecta.', 'Rastrera.', 'Semierecta.')), ContinuousVariable(name='tamanio', number_of_decimals=0), ContinuousVariable(name='rdto', number_of_decimals=4), DiscreteVariable(name='uso_fertilizantes', values=('False', 'True')))\n"
     ]
    }
   ],
   "source": [
    "print(f\"Attribute names: {data.domain.attributes}\")"
   ]
  },
  {
   "cell_type": "code",
   "execution_count": 22,
   "id": "9d2a66dc-b46d-42aa-8e87-bc6e1cbbe0c5",
   "metadata": {},
   "outputs": [
    {
     "ename": "AttributeError",
     "evalue": "'Table' object has no attribute 'remove_outliers'",
     "output_type": "error",
     "traceback": [
      "\u001b[0;31m---------------------------------------------------------------------------\u001b[0m",
      "\u001b[0;31mAttributeError\u001b[0m                            Traceback (most recent call last)",
      "\u001b[0;32m<ipython-input-22-64f6a4355973>\u001b[0m in \u001b[0;36m<module>\u001b[0;34m\u001b[0m\n\u001b[0;32m----> 1\u001b[0;31m \u001b[0mdata\u001b[0m \u001b[0;34m=\u001b[0m \u001b[0mdata\u001b[0m\u001b[0;34m.\u001b[0m\u001b[0mremove_outliers\u001b[0m\u001b[0;34m(\u001b[0m\u001b[0;34m)\u001b[0m\u001b[0;34m\u001b[0m\u001b[0;34m\u001b[0m\u001b[0m\n\u001b[0m",
      "\u001b[0;31mAttributeError\u001b[0m: 'Table' object has no attribute 'remove_outliers'"
     ]
    }
   ],
   "source": [
    "data = data.remove_outliers()"
   ]
  },
  {
   "cell_type": "code",
   "execution_count": 23,
   "id": "eb0b6619-fcf2-47cf-b2f9-8d0e7f219a0b",
   "metadata": {},
   "outputs": [
    {
     "ename": "AttributeError",
     "evalue": "'Table' object has no attribute 'split_random'",
     "output_type": "error",
     "traceback": [
      "\u001b[0;31m---------------------------------------------------------------------------\u001b[0m",
      "\u001b[0;31mAttributeError\u001b[0m                            Traceback (most recent call last)",
      "\u001b[0;32m<ipython-input-23-68f0844c0714>\u001b[0m in \u001b[0;36m<module>\u001b[0;34m\u001b[0m\n\u001b[0;32m----> 1\u001b[0;31m \u001b[0mtrain_data\u001b[0m\u001b[0;34m,\u001b[0m \u001b[0mtest_data\u001b[0m \u001b[0;34m=\u001b[0m \u001b[0mdata\u001b[0m\u001b[0;34m.\u001b[0m\u001b[0msplit_random\u001b[0m\u001b[0;34m(\u001b[0m\u001b[0;36m0.8\u001b[0m\u001b[0;34m)\u001b[0m\u001b[0;34m\u001b[0m\u001b[0;34m\u001b[0m\u001b[0m\n\u001b[0m",
      "\u001b[0;31mAttributeError\u001b[0m: 'Table' object has no attribute 'split_random'"
     ]
    }
   ],
   "source": [
    "train_data, test_data = data.split_random(0.8)"
   ]
  },
  {
   "cell_type": "code",
   "execution_count": null,
   "id": "08e2d8f3-09f7-46bd-9edd-58f30c9619b6",
   "metadata": {},
   "outputs": [],
   "source": []
  }
 ],
 "metadata": {
  "kernelspec": {
   "display_name": "Python 3",
   "language": "python",
   "name": "python3"
  },
  "language_info": {
   "codemirror_mode": {
    "name": "ipython",
    "version": 3
   },
   "file_extension": ".py",
   "mimetype": "text/x-python",
   "name": "python",
   "nbconvert_exporter": "python",
   "pygments_lexer": "ipython3",
   "version": "3.8.8"
  }
 },
 "nbformat": 4,
 "nbformat_minor": 5
}
